{
 "cells": [
  {
   "cell_type": "code",
   "execution_count": 2,
   "metadata": {},
   "outputs": [],
   "source": [
    "import pandas as pd\n",
    "import numpy as np\n",
    "import matplotlib.pyplot as plt\n",
    "import seaborn as sns"
   ]
  },
  {
   "cell_type": "code",
   "execution_count": 3,
   "metadata": {},
   "outputs": [
    {
     "name": "stderr",
     "output_type": "stream",
     "text": [
      "/Users/chetan/Desktop/Education/Rutgers/2nd Sem/CS541 Adv Data Mgmt/Project/omni-model-chat/venv/lib/python3.11/site-packages/tqdm/auto.py:21: TqdmWarning: IProgress not found. Please update jupyter and ipywidgets. See https://ipywidgets.readthedocs.io/en/stable/user_install.html\n",
      "  from .autonotebook import tqdm as notebook_tqdm\n"
     ]
    },
    {
     "data": {
      "text/html": [
       "<div>\n",
       "<style scoped>\n",
       "    .dataframe tbody tr th:only-of-type {\n",
       "        vertical-align: middle;\n",
       "    }\n",
       "\n",
       "    .dataframe tbody tr th {\n",
       "        vertical-align: top;\n",
       "    }\n",
       "\n",
       "    .dataframe thead th {\n",
       "        text-align: right;\n",
       "    }\n",
       "</style>\n",
       "<table border=\"1\" class=\"dataframe\">\n",
       "  <thead>\n",
       "    <tr style=\"text-align: right;\">\n",
       "      <th></th>\n",
       "      <th>question</th>\n",
       "      <th>answer</th>\n",
       "    </tr>\n",
       "  </thead>\n",
       "  <tbody>\n",
       "    <tr>\n",
       "      <th>0</th>\n",
       "      <td>Natalia sold clips to 48 of her friends in Apr...</td>\n",
       "      <td>How many clips did Natalia sell in May? ** Nat...</td>\n",
       "    </tr>\n",
       "    <tr>\n",
       "      <th>1</th>\n",
       "      <td>Weng earns $12 an hour for babysitting. Yester...</td>\n",
       "      <td>How much does Weng earn per minute? ** Weng ea...</td>\n",
       "    </tr>\n",
       "    <tr>\n",
       "      <th>2</th>\n",
       "      <td>Betty is saving money for a new wallet which c...</td>\n",
       "      <td>How much money does Betty have in the beginnin...</td>\n",
       "    </tr>\n",
       "    <tr>\n",
       "      <th>3</th>\n",
       "      <td>Julie is reading a 120-page book. Yesterday, s...</td>\n",
       "      <td>How many pages did Maila read today? ** Maila ...</td>\n",
       "    </tr>\n",
       "    <tr>\n",
       "      <th>4</th>\n",
       "      <td>James writes a 3-page letter to 2 different fr...</td>\n",
       "      <td>How many pages does he write each week? ** He ...</td>\n",
       "    </tr>\n",
       "  </tbody>\n",
       "</table>\n",
       "</div>"
      ],
      "text/plain": [
       "                                            question  \\\n",
       "0  Natalia sold clips to 48 of her friends in Apr...   \n",
       "1  Weng earns $12 an hour for babysitting. Yester...   \n",
       "2  Betty is saving money for a new wallet which c...   \n",
       "3  Julie is reading a 120-page book. Yesterday, s...   \n",
       "4  James writes a 3-page letter to 2 different fr...   \n",
       "\n",
       "                                              answer  \n",
       "0  How many clips did Natalia sell in May? ** Nat...  \n",
       "1  How much does Weng earn per minute? ** Weng ea...  \n",
       "2  How much money does Betty have in the beginnin...  \n",
       "3  How many pages did Maila read today? ** Maila ...  \n",
       "4  How many pages does he write each week? ** He ...  "
      ]
     },
     "execution_count": 3,
     "metadata": {},
     "output_type": "execute_result"
    }
   ],
   "source": [
    "splits = {'train': 'socratic/train-00000-of-00001.parquet', 'test': 'socratic/test-00000-of-00001.parquet'}\n",
    "df = pd.read_parquet(\"hf://datasets/openai/gsm8k/\" + splits[\"train\"])    \n",
    "df.head()"
   ]
  },
  {
   "cell_type": "code",
   "execution_count": 4,
   "metadata": {},
   "outputs": [
    {
     "data": {
      "text/html": [
       "<div>\n",
       "<style scoped>\n",
       "    .dataframe tbody tr th:only-of-type {\n",
       "        vertical-align: middle;\n",
       "    }\n",
       "\n",
       "    .dataframe tbody tr th {\n",
       "        vertical-align: top;\n",
       "    }\n",
       "\n",
       "    .dataframe thead th {\n",
       "        text-align: right;\n",
       "    }\n",
       "</style>\n",
       "<table border=\"1\" class=\"dataframe\">\n",
       "  <thead>\n",
       "    <tr style=\"text-align: right;\">\n",
       "      <th></th>\n",
       "      <th>question</th>\n",
       "      <th>answer</th>\n",
       "      <th>no_of_words</th>\n",
       "    </tr>\n",
       "  </thead>\n",
       "  <tbody>\n",
       "    <tr>\n",
       "      <th>0</th>\n",
       "      <td>Natalia sold clips to 48 of her friends in Apr...</td>\n",
       "      <td>How many clips did Natalia sell in May? ** Nat...</td>\n",
       "      <td>31</td>\n",
       "    </tr>\n",
       "    <tr>\n",
       "      <th>1</th>\n",
       "      <td>Weng earns $12 an hour for babysitting. Yester...</td>\n",
       "      <td>How much does Weng earn per minute? ** Weng ea...</td>\n",
       "      <td>20</td>\n",
       "    </tr>\n",
       "    <tr>\n",
       "      <th>2</th>\n",
       "      <td>Betty is saving money for a new wallet which c...</td>\n",
       "      <td>How much money does Betty have in the beginnin...</td>\n",
       "      <td>50</td>\n",
       "    </tr>\n",
       "    <tr>\n",
       "      <th>3</th>\n",
       "      <td>Julie is reading a 120-page book. Yesterday, s...</td>\n",
       "      <td>How many pages did Maila read today? ** Maila ...</td>\n",
       "      <td>41</td>\n",
       "    </tr>\n",
       "    <tr>\n",
       "      <th>4</th>\n",
       "      <td>James writes a 3-page letter to 2 different fr...</td>\n",
       "      <td>How many pages does he write each week? ** He ...</td>\n",
       "      <td>20</td>\n",
       "    </tr>\n",
       "  </tbody>\n",
       "</table>\n",
       "</div>"
      ],
      "text/plain": [
       "                                            question  \\\n",
       "0  Natalia sold clips to 48 of her friends in Apr...   \n",
       "1  Weng earns $12 an hour for babysitting. Yester...   \n",
       "2  Betty is saving money for a new wallet which c...   \n",
       "3  Julie is reading a 120-page book. Yesterday, s...   \n",
       "4  James writes a 3-page letter to 2 different fr...   \n",
       "\n",
       "                                              answer  no_of_words  \n",
       "0  How many clips did Natalia sell in May? ** Nat...           31  \n",
       "1  How much does Weng earn per minute? ** Weng ea...           20  \n",
       "2  How much money does Betty have in the beginnin...           50  \n",
       "3  How many pages did Maila read today? ** Maila ...           41  \n",
       "4  How many pages does he write each week? ** He ...           20  "
      ]
     },
     "execution_count": 4,
     "metadata": {},
     "output_type": "execute_result"
    }
   ],
   "source": [
    "df['no_of_words'] = df['question'].apply(lambda x: len(x.split()))\n",
    "df.head()"
   ]
  },
  {
   "cell_type": "code",
   "execution_count": 26,
   "metadata": {},
   "outputs": [
    {
     "data": {
      "image/png": "[encoded data removed]",
      "text/plain": [
       "<Figure size 640x480 with 1 Axes>"
      ]
     },
     "metadata": {},
     "output_type": "display_data"
    }
   ],
   "source": [
    "sns.kdeplot(df['no_of_words'], fill=True)\n",
    "plt.title('Distribution of Number of Words in Questions')\n",
    "plt.xlabel('Number of Words')\n",
    "plt.ylabel('Density')\n",
    "plt.savefig('word_distribution_gsm8k.png')\n",
    "plt.show()"
   ]
  },
  {
   "cell_type": "code",
   "execution_count": 9,
   "metadata": {},
   "outputs": [
    {
     "data": {
      "text/plain": [
       "(7473, 3)"
      ]
     },
     "execution_count": 9,
     "metadata": {},
     "output_type": "execute_result"
    }
   ],
   "source": [
    "df.shape"
   ]
  },
  {
   "cell_type": "code",
   "execution_count": 17,
   "metadata": {},
   "outputs": [
    {
     "data": {
      "text/plain": [
       "count    7473.000000\n",
       "mean       45.092600\n",
       "std        17.482279\n",
       "min         9.000000\n",
       "25%        33.000000\n",
       "50%        42.000000\n",
       "75%        54.000000\n",
       "max       183.000000\n",
       "Name: no_of_words, dtype: float64"
      ]
     },
     "execution_count": 17,
     "metadata": {},
     "output_type": "execute_result"
    }
   ],
   "source": [
    "df['no_of_words'].describe()"
   ]
  },
  {
   "cell_type": "code",
   "execution_count": 19,
   "metadata": {},
   "outputs": [
    {
     "data": {
      "text/plain": [
       "(33.0, 42.0, 54.0, np.int64(9), np.int64(183))"
      ]
     },
     "execution_count": 19,
     "metadata": {},
     "output_type": "execute_result"
    }
   ],
   "source": [
    "q1, q2, q3 = df['no_of_words'].quantile([0.25, 0.5, 0.75])\n",
    "minimum, maximum = df['no_of_words'].min(), df['no_of_words'].max()\n",
    "q1, q2, q3, minimum, maximum"
   ]
  },
  {
   "cell_type": "code",
   "execution_count": 20,
   "metadata": {},
   "outputs": [
    {
     "data": {
      "text/html": [
       "<div>\n",
       "<style scoped>\n",
       "    .dataframe tbody tr th:only-of-type {\n",
       "        vertical-align: middle;\n",
       "    }\n",
       "\n",
       "    .dataframe tbody tr th {\n",
       "        vertical-align: top;\n",
       "    }\n",
       "\n",
       "    .dataframe thead th {\n",
       "        text-align: right;\n",
       "    }\n",
       "</style>\n",
       "<table border=\"1\" class=\"dataframe\">\n",
       "  <thead>\n",
       "    <tr style=\"text-align: right;\">\n",
       "      <th></th>\n",
       "      <th>question</th>\n",
       "      <th>answer</th>\n",
       "      <th>no_of_words</th>\n",
       "      <th>word_count_category</th>\n",
       "    </tr>\n",
       "  </thead>\n",
       "  <tbody>\n",
       "    <tr>\n",
       "      <th>0</th>\n",
       "      <td>Natalia sold clips to 48 of her friends in Apr...</td>\n",
       "      <td>How many clips did Natalia sell in May? ** Nat...</td>\n",
       "      <td>31</td>\n",
       "      <td>short</td>\n",
       "    </tr>\n",
       "    <tr>\n",
       "      <th>1</th>\n",
       "      <td>Weng earns $12 an hour for babysitting. Yester...</td>\n",
       "      <td>How much does Weng earn per minute? ** Weng ea...</td>\n",
       "      <td>20</td>\n",
       "      <td>short</td>\n",
       "    </tr>\n",
       "    <tr>\n",
       "      <th>2</th>\n",
       "      <td>Betty is saving money for a new wallet which c...</td>\n",
       "      <td>How much money does Betty have in the beginnin...</td>\n",
       "      <td>50</td>\n",
       "      <td>medium</td>\n",
       "    </tr>\n",
       "    <tr>\n",
       "      <th>3</th>\n",
       "      <td>Julie is reading a 120-page book. Yesterday, s...</td>\n",
       "      <td>How many pages did Maila read today? ** Maila ...</td>\n",
       "      <td>41</td>\n",
       "      <td>medium</td>\n",
       "    </tr>\n",
       "    <tr>\n",
       "      <th>4</th>\n",
       "      <td>James writes a 3-page letter to 2 different fr...</td>\n",
       "      <td>How many pages does he write each week? ** He ...</td>\n",
       "      <td>20</td>\n",
       "      <td>short</td>\n",
       "    </tr>\n",
       "  </tbody>\n",
       "</table>\n",
       "</div>"
      ],
      "text/plain": [
       "                                            question  \\\n",
       "0  Natalia sold clips to 48 of her friends in Apr...   \n",
       "1  Weng earns $12 an hour for babysitting. Yester...   \n",
       "2  Betty is saving money for a new wallet which c...   \n",
       "3  Julie is reading a 120-page book. Yesterday, s...   \n",
       "4  James writes a 3-page letter to 2 different fr...   \n",
       "\n",
       "                                              answer  no_of_words  \\\n",
       "0  How many clips did Natalia sell in May? ** Nat...           31   \n",
       "1  How much does Weng earn per minute? ** Weng ea...           20   \n",
       "2  How much money does Betty have in the beginnin...           50   \n",
       "3  How many pages did Maila read today? ** Maila ...           41   \n",
       "4  How many pages does he write each week? ** He ...           20   \n",
       "\n",
       "  word_count_category  \n",
       "0               short  \n",
       "1               short  \n",
       "2              medium  \n",
       "3              medium  \n",
       "4               short  "
      ]
     },
     "execution_count": 20,
     "metadata": {},
     "output_type": "execute_result"
    }
   ],
   "source": [
    "def categorize_word_count(word_count):\n",
    "    if word_count <= q1:\n",
    "        return 'short'\n",
    "    elif word_count <= q3:\n",
    "        return 'medium'\n",
    "    else:\n",
    "        return 'long'\n",
    "\n",
    "df['word_count_category'] = df['no_of_words'].apply(categorize_word_count)\n",
    "df.head()"
   ]
  },
  {
   "cell_type": "code",
   "execution_count": 25,
   "metadata": {},
   "outputs": [
    {
     "data": {
      "image/png": "[encoded data removed]",
      "text/plain": [
       "<Figure size 640x480 with 1 Axes>"
      ]
     },
     "metadata": {},
     "output_type": "display_data"
    }
   ],
   "source": [
    "sns.countplot(x='word_count_category', data=df)\n",
    "plt.title('Word Count Categories GSM8K')\n",
    "plt.xlabel('Word Count Category')\n",
    "plt.ylabel('Count')\n",
    "plt.bar_label(plt.gca().containers[0])\n",
    "plt.savefig('word_count_categories_gsm8k.png')\n",
    "plt.show()"
   ]
  },
  {
   "cell_type": "code",
   "execution_count": null,
   "metadata": {},
   "outputs": [],
   "source": []
  }
 ],
 "metadata": {
  "kernelspec": {
   "display_name": "venv",
   "language": "python",
   "name": "python3"
  },
  "language_info": {
   "codemirror_mode": {
    "name": "ipython",
    "version": 3
   },
   "file_extension": ".py",
   "mimetype": "text/x-python",
   "name": "python",
   "nbconvert_exporter": "python",
   "pygments_lexer": "ipython3",
   "version": "3.11.7"
  }
 },
 "nbformat": 4,
 "nbformat_minor": 2
}
